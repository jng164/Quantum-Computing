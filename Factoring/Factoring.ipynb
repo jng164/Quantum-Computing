{
 "cells": [
  {
   "attachments": {},
   "cell_type": "markdown",
   "metadata": {},
   "source": [
    "# Factoring \n",
    "\n",
    "### Author: Jan Nogué Gómez\n",
    "#### 2nd assingment for the course in Quantum Computing \n",
    "##### Master in Quantum Science and Technology UB"
   ]
  },
  {
   "attachments": {},
   "cell_type": "markdown",
   "metadata": {},
   "source": [
    "The following code calculates the factors of a number $N$ for a given error $\\epsilon$ and a given value of $x$. \n",
    "It calculates the value of $t$ as the following:\n",
    "\\begin{equation}\n",
    "t = 2L + 1+\\lfloor\\log_2\\left(2+\\frac{1}{2\\epsilon}\\right)\\rfloor\n",
    "\\end{equation}"
   ]
  },
  {
   "cell_type": "code",
   "execution_count": 174,
   "metadata": {},
   "outputs": [],
   "source": [
    "import numpy as np\n",
    "from math import ceil, gcd\n",
    "\n",
    "def factorize(x,N,eps):\n",
    "    # calculate the size of the working register\n",
    "    L = ceil(np.log2(N+1))\n",
    "    print(f\"L = {L}\")\n",
    "    t = 2*L + 1 + ceil(np.log2(2 + 1/(2*eps)))\n",
    "    print(f\"t = {t}\")\n",
    "\n",
    "    # initialize variables\n",
    "    r = None\n",
    "\n",
    "    # create the state after modular exponentiation\n",
    "    state = np.mod(np.power(x, 0), N)\n",
    "    modular = [state]\n",
    "    for i in range(1, 2**t):\n",
    "        # update the state by modular exponentiation\n",
    "        state = np.mod(np.power(x, i), N)\n",
    "\n",
    "        # check if state is 1 and i is not 0\n",
    "        if (state == 1) and (i != 0):\n",
    "            r = i\n",
    "            print(f\"r = {r}\")\n",
    "            break\n",
    "        else:\n",
    "            modular.append(state)\n",
    "\n",
    "    # check if factorization is successful\n",
    "    if r is None:\n",
    "        print(f\"Algorithm couldn't factorize N = {N}\")\n",
    "    elif (r/2).is_integer() and np.mod(np.power(x, r//2), N) != N-1:\n",
    "        _extracted_from_factorize(x, r, N)\n",
    "    else:\n",
    "        print(f\"Algorithm couldn't factorize N = {N}\")\n",
    "\n",
    "def _extracted_from_factorize(x, r, N):\n",
    "    gcd1 = gcd(int(np.power(x, r//2)-1), N)\n",
    "    gcd2 = gcd(int(np.power(x, r//2)+1), N)\n",
    "\n",
    "    factors = []\n",
    "    if gcd1 != 1:\n",
    "        factors.append(gcd1)\n",
    "    if gcd2 != 1:\n",
    "        factors.append(gcd2)\n",
    "\n",
    "    if not factors:\n",
    "        print(f\"Algorithm couldn't factorize N = {N}\")\n",
    "    else:\n",
    "        print(f\"Factors {factors} were found for N = {N}\")"
   ]
  },
  {
   "attachments": {},
   "cell_type": "markdown",
   "metadata": {},
   "source": [
    "In the following cell we obtained the factors for the example of $N=85$ and $\\epsilon=1/4$ and $x=3$."
   ]
  },
  {
   "cell_type": "code",
   "execution_count": 176,
   "metadata": {},
   "outputs": [
    {
     "name": "stdout",
     "output_type": "stream",
     "text": [
      "L = 7\n",
      "t = 17\n",
      "r = 16\n",
      "Factors [5, 17] were found for N = 85\n"
     ]
    }
   ],
   "source": [
    "N=85\n",
    "eps = 1/4\n",
    "x=3\n",
    "factorize(x,N,eps)\n"
   ]
  },
  {
   "attachments": {},
   "cell_type": "markdown",
   "metadata": {},
   "source": [
    "The general algorithm would be"
   ]
  },
  {
   "cell_type": "code",
   "execution_count": 177,
   "metadata": {},
   "outputs": [],
   "source": [
    "def general_factoring(x,N,eps):   \n",
    "    if N % 2 == 0:\n",
    "        print(f\"Factor 2 was found for N = {N}\")\n",
    "        return\n",
    "    a = 2\n",
    "    while a**2 <= N:\n",
    "        b = int(np.log(N) / np.log(a))\n",
    "        if a**b == N:\n",
    "            print(f\"Factor {a} found for N = {N}\")\n",
    "            return \n",
    "        a += 1\n",
    "    # randomly choose x and check if gcd(x, N) > 1\n",
    "    gcd_xN = gcd(x, N)\n",
    "    if gcd_xN > 1:\n",
    "        print(f\"Factor {gcd_xN} found for N = {N}\")\n",
    "        return\n",
    "    #otherwhise, we factorize N\n",
    "    factorize(x,N,eps)\n",
    "    \n",
    "    "
   ]
  },
  {
   "attachments": {},
   "cell_type": "markdown",
   "metadata": {},
   "source": [
    "Here we add one case of the algorithm when the factors are non-trivial"
   ]
  },
  {
   "cell_type": "code",
   "execution_count": 178,
   "metadata": {},
   "outputs": [
    {
     "name": "stdout",
     "output_type": "stream",
     "text": [
      "Factor 2 was found for N = 86\n"
     ]
    }
   ],
   "source": [
    "N=86\n",
    "eps = 1/4\n",
    "x=3\n",
    "general_factoring(x,N,eps)"
   ]
  },
  {
   "attachments": {},
   "cell_type": "markdown",
   "metadata": {},
   "source": [
    "### Study on the effect of the size t of the working register"
   ]
  },
  {
   "attachments": {},
   "cell_type": "markdown",
   "metadata": {},
   "source": [
    "1. With the following code we generated the plot for a fixed $x=3, N=85, \\epsilon=1/4$ and we varied the size of the working register $t$.\n",
    "2. We also used to generate all the plots for the coprimes of $N$.\n",
    "3. We took values of $t\\in[1,18]$"
   ]
  },
  {
   "cell_type": "code",
   "execution_count": 182,
   "metadata": {},
   "outputs": [
    {
     "name": "stdout",
     "output_type": "stream",
     "text": [
      "16\n"
     ]
    },
    {
     "data": {
      "image/png": "[encoded data removed]",
      "text/plain": [
       "<Figure size 640x480 with 1 Axes>"
      ]
     },
     "metadata": {},
     "output_type": "display_data"
    }
   ],
   "source": [
    "import numpy as np\n",
    "from math import ceil, gcd\n",
    "import matplotlib.pyplot as plt\n",
    "\n",
    "def factorize(x, N, eps, t):\n",
    "    L = ceil(np.log2(N+1))\n",
    "    r = None\n",
    "    modular = []\n",
    "    for i in range(2**t):\n",
    "        state = x**i % N\n",
    "        if (state == 1) and (i != 0):\n",
    "            r = i\n",
    "            break\n",
    "        else:\n",
    "            modular.append(state)\n",
    "\n",
    "    if r is not None and (r/2).is_integer() and x**(r/2) != N-1: \n",
    "        gcd1 = gcd(int(x**(r/2)-1), N)\n",
    "        gcd2 = gcd(int(x**(r/2)+1), N)\n",
    "\n",
    "        factors =[]\n",
    "        if gcd1 != 1:\n",
    "            factors.append(gcd1) \n",
    "            if gcd2 != 1:\n",
    "                factors.append(gcd2)\n",
    "\n",
    "        if factors != []:\n",
    "            return True\n",
    "        else :\n",
    "            return False\n",
    "    else :\n",
    "        return False\n",
    "\n",
    "x = 16 #set the value of x\n",
    "N = 85\n",
    "eps = 0.25\n",
    "#coprimes = [x for x in range(1, N) if gcd(x, N) == 1] #uncomment this line to generate plots for all coprimes\n",
    "coprimes = [x] #this line is for generating plots for a single value of x\n",
    "t_values = list(range(1, 18))#range of values of t\n",
    "\n",
    "\n",
    "for x in coprimes:\n",
    "    success_prob = []\n",
    "    print(x)\n",
    "    num_trials = 100\n",
    "    for t in t_values:\n",
    "        num_success = sum(1 for _ in range(num_trials) if factorize(x, N, eps, t))\n",
    "        success_prob.append(num_success/num_trials)\n",
    "\n",
    "    plt.plot(t_values, success_prob, 'bo-')\n",
    "    plt.xlabel('t')\n",
    "    plt.ylabel('Success probability')\n",
    "    plt.title(fr'x={x}, N={N}, $\\epsilon$={eps}')\n",
    "    plt.xticks(t_values, [str(i) for i in t_values])\n",
    "    plt.savefig(f\"tvalues{x}.pdf\")\n",
    "    plt.show()\n"
   ]
  }
 ],
 "metadata": {
  "kernelspec": {
   "display_name": "Python 3",
   "language": "python",
   "name": "python3"
  },
  "language_info": {
   "codemirror_mode": {
    "name": "ipython",
    "version": 3
   },
   "file_extension": ".py",
   "mimetype": "text/x-python",
   "name": "python",
   "nbconvert_exporter": "python",
   "pygments_lexer": "ipython3",
   "version": "3.11.1"
  },
  "orig_nbformat": 4,
  "vscode": {
   "interpreter": {
    "hash": "aee8b7b246df8f9039afb4144a1f6fd8d2ca17a180786b69acc140d282b71a49"
   }
  }
 },
 "nbformat": 4,
 "nbformat_minor": 2
}
