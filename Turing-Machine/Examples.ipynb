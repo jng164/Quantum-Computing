{
 "cells": [
  {
   "cell_type": "markdown",
   "metadata": {},
   "source": [
    "# Examples\n",
    "\n",
    "#### Jan Nogué Gómez\n",
    "\n",
    "### Master in Quantum Science and Technology UB"
   ]
  },
  {
   "cell_type": "markdown",
   "metadata": {},
   "source": [
    "In this file we will test several examples of the Turing Machine"
   ]
  },
  {
   "cell_type": "code",
   "execution_count": 1,
   "metadata": {},
   "outputs": [],
   "source": [
    "from ClassTM import TuringMachine\n",
    "import random\n",
    "import pandas as pd"
   ]
  },
  {
   "cell_type": "markdown",
   "metadata": {},
   "source": [
    "This Turing Machine takes a list of unsorted integers and returns the sorted array in ascending order. The elements of the list can be repeated. If the elements of the list are already sorted, it returns the same list."
   ]
  },
  {
   "cell_type": "code",
   "execution_count": 3,
   "metadata": {},
   "outputs": [],
   "source": [
    "program = open('file.txt').read() #Read the file with all the transition functions"
   ]
  },
  {
   "cell_type": "markdown",
   "metadata": {},
   "source": [
    "### Examples\n",
    "1. Input Tape = [1,2,3,4,5,6,7,8,9,10]\n",
    "\n"
   ]
  },
  {
   "cell_type": "code",
   "execution_count": 3,
   "metadata": {},
   "outputs": [
    {
     "name": "stdout",
     "output_type": "stream",
     "text": [
      "Input Tape: [1, 2, 3, 4, 5, 6, 7, 8, 9, 10]\n"
     ]
    }
   ],
   "source": [
    "input_tape = [1,2,3,4,5,6,7,8,9,10]\n",
    "print(f\"Input Tape: {input_tape}\")"
   ]
  },
  {
   "cell_type": "code",
   "execution_count": 4,
   "metadata": {},
   "outputs": [
    {
     "name": "stdout",
     "output_type": "stream",
     "text": [
      "Initial tapes of the Turing Machine:\n",
      "Input Tape:  __S0001_0010_0011_0100_0101_0110_0111_1000_1001_1010E__\n",
      "Working tape: __S___________________________________________________\n",
      "Track Tape: __S_________________________________________________E__\n",
      "Output Tape: __S_________________________________________________H__\n"
     ]
    }
   ],
   "source": [
    "tm = TuringMachine(program, input_tape)\n",
    "print(\"Initial tapes of the Turing Machine:\")\n",
    "tm.print_tapes()\n",
    "iteration = tm.run()\n"
   ]
  },
  {
   "cell_type": "code",
   "execution_count": 5,
   "metadata": {},
   "outputs": [
    {
     "name": "stdout",
     "output_type": "stream",
     "text": [
      "Final tapes of the Turing Machine:\n",
      "Input Tape:  __S_____________________________________________1010E__\n",
      "Working tape: __S1010_______________________________________________\n",
      "Track Tape: __S_____________________________________________XXXXE__\n",
      "Output Tape: __S0001_0010_0011_0100_0101_0110_0111_1000_1001_1010H__\n",
      "Convert the output tape to a list of integers again:\n",
      "Ouput Tape: [1, 2, 3, 4, 5, 6, 7, 8, 9, 10]\n",
      "State: H, Iterations: 2106\n"
     ]
    }
   ],
   "source": [
    "print(\"Final tapes of the Turing Machine:\")\n",
    "tm.print_tapes()\n",
    "print(\"Convert the output tape to a list of integers again:\")\n",
    "tm.print_solution()"
   ]
  },
  {
   "cell_type": "markdown",
   "metadata": {},
   "source": [
    "2. Input Tape = [10,9,8,7,6,5,4,3,2,1]"
   ]
  },
  {
   "cell_type": "code",
   "execution_count": 6,
   "metadata": {},
   "outputs": [
    {
     "name": "stdout",
     "output_type": "stream",
     "text": [
      "Input Tape: [10, 9, 8, 7, 6, 5, 4, 3, 2, 1]\n"
     ]
    }
   ],
   "source": [
    "input_tape = [10,9,8,7,6,5,4,3,2,1]\n",
    "print(f\"Input Tape: {input_tape}\")"
   ]
  },
  {
   "cell_type": "code",
   "execution_count": 7,
   "metadata": {},
   "outputs": [
    {
     "name": "stdout",
     "output_type": "stream",
     "text": [
      "Initial tapes of the Turing Machine:\n",
      "Input Tape:  __S1010_1001_1000_0111_0110_0101_0100_0011_0010_0001E__\n",
      "Working tape: __S___________________________________________________\n",
      "Track Tape: __S_________________________________________________E__\n",
      "Output Tape: __S_________________________________________________H__\n"
     ]
    }
   ],
   "source": [
    "tm = TuringMachine(program, input_tape)\n",
    "print(\"Initial tapes of the Turing Machine:\")\n",
    "tm.print_tapes()\n",
    "iteration = tm.run()"
   ]
  },
  {
   "cell_type": "code",
   "execution_count": 8,
   "metadata": {},
   "outputs": [
    {
     "name": "stdout",
     "output_type": "stream",
     "text": [
      "Final tapes of the Turing Machine:\n",
      "Input Tape:  __S1010_____________________________________________E__\n",
      "Working tape: __S1010_______________________________________________\n",
      "Track Tape: __SXXXX_____________________________________________E__\n",
      "Output Tape: __S0001_0010_0011_0100_0101_0110_0111_1000_1001_1010H__\n",
      "Convert the output tape to a list of integers again:\n",
      "Ouput Tape: [1, 2, 3, 4, 5, 6, 7, 8, 9, 10]\n",
      "State: H, Iterations: 6509\n"
     ]
    }
   ],
   "source": [
    "print(\"Final tapes of the Turing Machine:\")\n",
    "tm.print_tapes()\n",
    "print(\"Convert the output tape to a list of integers again:\")\n",
    "tm.print_solution()"
   ]
  },
  {
   "attachments": {},
   "cell_type": "markdown",
   "metadata": {},
   "source": [
    "Here I present the code to generate a random array of $N$ elements, for the user to play with. Note that the value maximum sets the upper bound for the number $N$ and that, if the users tries to generate $N$ > $UB-1$ it will raise a ValueError.\n",
    "1. Please run the three consecutive cells to obtain the sorted array for the random input tape"
   ]
  },
  {
   "cell_type": "code",
   "execution_count": 9,
   "metadata": {},
   "outputs": [
    {
     "name": "stdout",
     "output_type": "stream",
     "text": [
      "Input Tape: [7, 4, 6, 3, 1, 5]\n"
     ]
    }
   ],
   "source": [
    "N=6 #number of elements\n",
    "UB= 8 #Upper bound of the elements\n",
    "input_tape = random.sample(range(1,UB),N)\n",
    "print(f\"Input Tape: {input_tape}\")"
   ]
  },
  {
   "cell_type": "code",
   "execution_count": 10,
   "metadata": {},
   "outputs": [
    {
     "name": "stdout",
     "output_type": "stream",
     "text": [
      "Initial tapes of the Turing Machine:\n",
      "Input Tape:  __S111_100_110_011_001_101E__\n",
      "Working tape: __S_________________________\n",
      "Track Tape: __S_______________________E__\n",
      "Output Tape: __S_______________________H__\n"
     ]
    }
   ],
   "source": [
    "tm = TuringMachine(program, input_tape)\n",
    "print(\"Initial tapes of the Turing Machine:\")\n",
    "tm.print_tapes()\n",
    "iteration = tm.run()"
   ]
  },
  {
   "cell_type": "code",
   "execution_count": 11,
   "metadata": {},
   "outputs": [
    {
     "name": "stdout",
     "output_type": "stream",
     "text": [
      "Final tapes of the Turing Machine:\n",
      "Input Tape:  __S111____________________E__\n",
      "Working tape: __S111______________________\n",
      "Track Tape: __SXXX____________________E__\n",
      "Output Tape: __S001_011_100_101_110_111H__\n",
      "Convert the output tape to a list of integers again:\n",
      "Ouput Tape: [1, 3, 4, 5, 6, 7]\n",
      "State: H, Iterations: 1181\n"
     ]
    }
   ],
   "source": [
    "print(\"Final tapes of the Turing Machine:\")\n",
    "tm.print_tapes()\n",
    "print(\"Convert the output tape to a list of integers again:\")\n",
    "tm.print_solution()"
   ]
  },
  {
   "attachments": {},
   "cell_type": "markdown",
   "metadata": {},
   "source": [
    "### Study of the worse, average and best case scenario\n",
    "\n",
    "In this scenario we generated randoms arrays of different sizes and sorted them in descending, asceding and random order to study the complexity of the algorithm:\n",
    "1. To sort the Input Tape in descending order before entering the Turing Machine, we used *input_tape.sort(reverse=True)*: It took 520min\n",
    "2. To sort the Input Tape in ascending order before entering the Turing Machine, we used *input_tape.sort()*. It took less than 2 minuts\n",
    "3. For the case of average complexity, it took 6min"
   ]
  },
  {
   "cell_type": "code",
   "execution_count": 20,
   "metadata": {},
   "outputs": [
    {
     "name": "stdout",
     "output_type": "stream",
     "text": [
      "Number of iterations: 6589\n",
      "Initial state length: 115\n",
      "Number of iterations: 542046\n",
      "Initial state length: 1105\n",
      "Number of iterations: 2140402\n",
      "Initial state length: 2205\n",
      "Number of iterations: 4693551\n",
      "Initial state length: 3305\n",
      "Number of iterations: 8306606\n",
      "Initial state length: 4405\n",
      "Number of iterations: 13629475\n",
      "Initial state length: 5505\n",
      "Number of iterations: 18690326\n",
      "Initial state length: 6605\n",
      "Number of iterations: 25729317\n",
      "Initial state length: 7705\n",
      "Number of iterations: 33476415\n",
      "Initial state length: 8805\n",
      "Number of iterations: 42349449\n",
      "Initial state length: 9905\n"
     ]
    }
   ],
   "source": [
    "input_sizes = [10, 100, 200, 300, 400, 500, 600, 700, 800, 900,1000]\n",
    "\n",
    "headers = ['Input Size', 'Lenght', 'Number of Iterations']\n",
    "df = pd.DataFrame(columns=headers)\n",
    "\n",
    "for size in input_sizes:\n",
    "        input_tape = random.sample(range(1,1000),size)\n",
    "        #input_tape.sort(reverse=True) #Worst case, sorted in decreasing order\n",
    "        #input_tape.sort() #Best case, sorted in increasing order\n",
    "        tm = TuringMachine(program, input_tape)\n",
    "        initial_array = tm.initial_state()\n",
    "        iteration = tm.run()\n",
    "        print(f\"Number of iterations: {iteration}\")\n",
    "        print(f\"Initial state length: {len(initial_array)}\")\n",
    "        row = {\"Input Size\": size, \"Lenght\": len(initial_array), \"Number of Iterations\": iteration}\n",
    "        new_df = pd.DataFrame(row, columns=headers, index = [0])\n",
    "      \n",
    "        \n",
    "        df = pd.concat([df, new_df], ignore_index=True)\n",
    "\n",
    "        df.to_csv('average_case.txt',sep=' ', index=False, header = False)\n",
    "    \n"
   ]
  },
  {
   "cell_type": "code",
   "execution_count": 24,
   "metadata": {},
   "outputs": [
    {
     "data": {
      "image/png": "[encoded data removed]",
      "text/plain": [
       "<Figure size 640x480 with 1 Axes>"
      ]
     },
     "metadata": {},
     "output_type": "display_data"
    }
   ],
   "source": [
    "import numpy as np\n",
    "from sklearn.linear_model import LinearRegression\n",
    "from sklearn.preprocessing import PolynomialFeatures\n",
    "from sklearn.metrics import r2_score\n",
    "import matplotlib.pyplot as plt\n",
    "\n",
    "# read data from file\n",
    "with open('average_case.txt') as f:\n",
    "    data = [list(map(int, line.split())) for line in f]\n",
    "\n",
    "# extract second and third columns\n",
    "x = np.array([row[1] for row in data]).reshape(-1, 1)\n",
    "y = np.array([row[2] for row in data])\n",
    "\n",
    "# fit a 3rd-degree polynomial\n",
    "poly = PolynomialFeatures(degree=2)\n",
    "x_poly = poly.fit_transform(x)\n",
    "model = LinearRegression()\n",
    "model.fit(x_poly, y)\n",
    "\n",
    "# calculate MSE\n",
    "y_pred = model.predict(x_poly)\n",
    "r_squared = r2_score(y, y_pred)\n",
    "\n",
    "# plot the data and the polynomial curve\n",
    "fig, ax = plt.subplots()\n",
    "ax.scatter(x, y)\n",
    "ax.plot(x, y_pred,label = r\"$n^2$\",color='red')\n",
    "ax.set_xlabel(r'Lenght of the Input Tape ($n$)')\n",
    "ax.set_ylabel('Number of iterations')\n",
    "ax.text(0.02, 0.8, f'$R^2$: {r_squared:.4f}', transform=ax.transAxes)\n",
    "ax.legend()\n",
    "ax.title.set_text('Average Case Complexity')\n",
    "plt.savefig(\"average_case.pdf\")\n",
    "plt.show()\n"
   ]
  }
 ],
 "metadata": {
  "kernelspec": {
   "display_name": "Python 3.11.1 64-bit",
   "language": "python",
   "name": "python3"
  },
  "language_info": {
   "codemirror_mode": {
    "name": "ipython",
    "version": 3
   },
   "file_extension": ".py",
   "mimetype": "text/x-python",
   "name": "python",
   "nbconvert_exporter": "python",
   "pygments_lexer": "ipython3",
   "version": "3.11.1"
  },
  "orig_nbformat": 4,
  "vscode": {
   "interpreter": {
    "hash": "aee8b7b246df8f9039afb4144a1f6fd8d2ca17a180786b69acc140d282b71a49"
   }
  }
 },
 "nbformat": 4,
 "nbformat_minor": 2
}
