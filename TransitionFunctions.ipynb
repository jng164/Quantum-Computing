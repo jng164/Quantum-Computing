{
 "cells": [
  {
   "cell_type": "markdown",
   "metadata": {},
   "source": [
    "# Transition Functions"
   ]
  },
  {
   "cell_type": "markdown",
   "metadata": {},
   "source": [
    "In this file we will explain the code used to create the transition functions."
   ]
  },
  {
   "cell_type": "markdown",
   "metadata": {},
   "source": [
    "The following code creates all possible combinations of characters for a possible state. \n",
    "For example, for a state that moves only the head of the input tape ($H_I$) left until found the beginning of the tape, the transition funtion would only take into account $R_I, W_I, H_I$. Since we need to take into account all the characters in all tapes, we created the following code.\n",
    "\n",
    "\n",
    "The following code first creates a list of the remanining headers (in this case it would be $R_W, W_W, H_W, R_T, W_T, H_T, R_O, W_O, H_O$) and creates all permutations with the defaults values (function *get_combinations*)\n",
    "\n",
    "The function *add_row creates* a dataframe whose rows with the permutations (keeping the same value of $R_I, W_I, H_I$ in all rows)"
   ]
  },
  {
   "cell_type": "code",
   "execution_count": 4,
   "metadata": {},
   "outputs": [],
   "source": [
    "from itertools import product,chain\n",
    "import pandas as pd\n",
    "\n",
    "headers = ['q0', 'RI', 'WI', 'HI', 'RW', 'WW', 'HW', 'RT', 'WT', 'HT', 'RO', 'WO', 'HO', 'q1']\n",
    "\n",
    "defaults = {'RW': ['1', '0', 'S', '_', 'E'], 'WW': ['1', '0', 'S', '_', 'E'], 'HW': ['*', '*', '*', '*','*'],\n",
    "'RI': ['E', '1', '0', 'S', '_'], 'WI': ['E', '1', '0', 'S', '_'], 'HI': ['*', '*', '*', '*', '*'],\n",
    "'RT': ['X','S', '_', 'E'], 'WT': ['X', 'S', '_', 'E'], 'HT': ['*', '*', '*', '*'],\n",
    "'RO': ['1', '0', 'S', '_', 'H'], 'WO': ['1', '0', 'S', '_', 'H'], 'HO': ['*', '*', '*', '*', '*']}\n",
    "\n",
    "I= list(zip(defaults['RI'], defaults['WI'], defaults['HI']))\n",
    "W = list(zip(defaults['RW'], defaults['WW'], defaults['HW']))\n",
    "T = list(zip(defaults['RT'], defaults['WT'], defaults['HT']))\n",
    "O = list(zip(defaults['RO'], defaults['WO'], defaults['HO']))\n",
    "\n",
    "\n",
    "def get_combinations(headers_to_use, I=I, W=W, T=T, O=O):\n",
    "    lists = {'RW': W, 'RT': T, 'RO': O, 'RI':I}\n",
    "    lists_to_use = [lists[header] for header in headers_to_use if header in lists]\n",
    "    combinations = product(*lists_to_use)\n",
    "    return list(combinations)\n",
    "\n",
    "df = pd.DataFrame(columns=headers)\n",
    "headers_to_use = ['RW','WW','HW','RI','WI','HI','RT','WT','HT']\n",
    "combinations = get_combinations(headers_to_use)\n",
    "#print(combinations[0])\n",
    "\n",
    "\n",
    "def add_row(values, headers, df):\n",
    "    headers_to_use = [header for header in headers if header not in values]\n",
    "    combinations = get_combinations(headers_to_use)\n",
    "    \n",
    "    for idx,_ in enumerate(combinations):\n",
    "        new_row = values.copy()\n",
    "        tuple_test = tuple(chain.from_iterable(combinations[idx]))\n",
    "        #print(tuple_test)\n",
    "        for value, header in zip(tuple_test,headers_to_use):\n",
    "            new_row[header] = value\n",
    "           #print(new_row)\n",
    "            new_df = pd.DataFrame(new_row, columns=headers, index = [idx])\n",
    "        df = pd.concat([df, new_df], ignore_index=True)\n",
    "\n",
    "    return df"
   ]
  },
  {
   "cell_type": "markdown",
   "metadata": {},
   "source": [
    "## Headers"
   ]
  },
  {
   "cell_type": "code",
   "execution_count": 5,
   "metadata": {},
   "outputs": [],
   "source": [
    "headers = ['s0', 'RI', 'WI', 'HI', 'RW', 'WW', 'HW', 'RT', 'WT', 'HT', 'RO', 'WO', 'HO', 's1']\n",
    "df = pd.DataFrame(columns=headers)"
   ]
  },
  {
   "cell_type": "markdown",
   "metadata": {},
   "source": [
    "Now we will present all the generation of the transitions functions. We decided to keep the transitions functions of each state in a separate cell, it's not the best approach but I thought it would help with visualising and debugging. All cells must be ran to create a new file.txt or to modify the transitions functions of the Turing Machine."
   ]
  },
  {
   "cell_type": "markdown",
   "metadata": {},
   "source": [
    "### Read Input Tape\n",
    "Generate the transitions of $q_0$ (Read Input Tape)"
   ]
  },
  {
   "cell_type": "code",
   "execution_count": 6,
   "metadata": {},
   "outputs": [],
   "source": [
    "headers = ['s0', 'RI', 'WI', 'HI', 'RW', 'WW', 'HW', 'RT', 'WT', 'HT', 'RO', 'WO', 'HO', 's1']\n",
    "df0 = pd.DataFrame(columns=headers)\n",
    "\n",
    "\n",
    "q0 = {'s0': 'q0', 'RI': 'E', 'WI': 'E', 'HI': '*',  's1': 'q8'}\n",
    "q1 = {'s0': 'q0', 'RI': '1', 'WI': '1', 'HI': '*', 's1': 'q1'}\n",
    "q2 = {'s0': 'q0', 'RI': '0', 'WI': '0', 'HI': '*', 's1': 'q1'}\n",
    "q3 = {'s0': 'q0', 'RI': 'S', 'WI': 'S', 'HI': 'R','s1': 'q0'}\n",
    "q4 = {'s0': 'q0', 'RI': '_', 'WI': '_', 'HI': 'R','s1': 'q0'}\n",
    "qs = [q0,q1,q2,q3,q4]\n",
    "\n",
    "for q in qs:\n",
    "    df0 = add_row(q, headers, df0)\n",
    "    with open(\"file.txt\", \"a\") as f:\n",
    "        df0.to_csv(f, sep=' ', index=False, header=False)"
   ]
  },
  {
   "cell_type": "markdown",
   "metadata": {},
   "source": [
    "### Read Working Tape\n",
    "Generate the transitions of $q_1$ state (Read Working Tape)"
   ]
  },
  {
   "cell_type": "code",
   "execution_count": 7,
   "metadata": {},
   "outputs": [],
   "source": [
    "headers = ['s0', 'RI', 'WI', 'HI', 'RW', 'WW', 'HW', 'RT', 'WT', 'HT', 'RO', 'WO', 'HO', 's1']\n",
    "df1 = pd.DataFrame(columns=headers)\n",
    "\n",
    "q0 = {'s0': 'q1', 'RW': '_', 'WW': '_', 'HW': '*', 's1': 'q2'}\n",
    "q1 = {'s0': 'q1', 'RW': 'S', 'WW': 'S', 'HW': 'R', 's1': 'q1'}\n",
    "q2 = {'s0': 'q1', 'RW': '1', 'WW': '1', 'HW': '*', 's1': 'q3'}\n",
    "q3 = {'s0': 'q1', 'RW': '0', 'WW': '0', 'HW': '*', 's1': 'q3'}\n",
    "qs = [q0,q1,q2,q3]\n",
    "for q in qs:\n",
    "    df1 = add_row(q, headers, df1)\n",
    "    with open(\"file.txt\", \"a\") as f:\n",
    "        df1.to_csv(f, sep=' ', index=False, header=False)"
   ]
  },
  {
   "cell_type": "markdown",
   "metadata": {},
   "source": [
    "### Copy the number read in the Input tape to the Track tape\n",
    "Generate the $q_2$ state transition function"
   ]
  },
  {
   "cell_type": "code",
   "execution_count": 8,
   "metadata": {},
   "outputs": [],
   "source": [
    "headers = ['s0', 'RI', 'WI', 'HI', 'RW', 'WW', 'HW', 'RT', 'WT', 'HT', 'RO', 'WO', 'HO', 's1']\n",
    "df2 = pd.DataFrame(columns=headers)\n",
    "\n",
    "q0 = {'s0': 'q2', 'RI': '1', 'WI': '1', 'HI': 'R','RW': '_', 'WW': '1', 'HW': 'R', 'RT': '_', 'WT': 'X', 'HT': 'R','s1': 'q2'}\n",
    "q1 = {'s0': 'q2', 'RI': '0', 'WI': '0', 'HI': 'R','RW': '_', 'WW': '0', 'HW': 'R', 'RT': '_', 'WT': 'X', 'HT': 'R','s1': 'q2'}\n",
    "q2 = {'s0': 'q2', 'RI': '_', 'WI': '_', 'HI': '*','RW': '_', 'WW': '_', 'HW': '*', 'RT': '_', 'WT': '_', 'HT': '*','s1': 'q2A'}\n",
    "q3 = {'s0': 'q2' , 'RI':'E', 'WI':'E', 'HI':'*', 's1': 'q8'}\n",
    "\n",
    "\n",
    "qs = [q0,q1,q2,q3]\n",
    "for q in qs:\n",
    "    df2 = add_row(q, headers, df2)\n",
    "    with open(\"file.txt\", \"a\") as f:\n",
    "        df2.to_csv(f, sep=' ', index=False, header=False)"
   ]
  },
  {
   "cell_type": "markdown",
   "metadata": {},
   "source": [
    "Generate the $q_{2A}$ state transtion functions: Reset $H_W$ head to the beginning of the tape."
   ]
  },
  {
   "cell_type": "code",
   "execution_count": 9,
   "metadata": {},
   "outputs": [],
   "source": [
    "headers = ['s0', 'RI', 'WI', 'HI', 'RW', 'WW', 'HW', 'RT', 'WT', 'HT', 'RO', 'WO', 'HO', 's1']\n",
    "df4 = pd.DataFrame(columns=headers)\n",
    "\n",
    "q0 = {'s0': 'q2A', 'RW': '1', 'WW': '1', 'HW': 'L','s1': 'q2A'}\n",
    "q1 = {'s0': 'q2A', 'RW': '0', 'WW': '0', 'HW': 'L','s1': 'q2A'}\n",
    "q2 = {'s0': 'q2A', 'RW': '_', 'WW': '_', 'HW': 'L', 's1': 'q2A'}\n",
    "q3 = {'s0': 'q2A', 'RW': 'S', 'WW': 'S', 'HW': '*', 's1': 'q2B'}\n",
    "\n",
    "qs = [q0,q1,q2,q3]\n",
    "for q in qs:\n",
    "    df4 = add_row(q, headers, df4)\n",
    "    with open(\"file.txt\", \"a\") as f:\n",
    "        df4.to_csv(f, sep=' ', index=False, header=False)"
   ]
  },
  {
   "cell_type": "markdown",
   "metadata": {},
   "source": [
    "Generate the $q_{2B}$ state transtion functions: Reset the $H_I$ head to the beginning of the tape."
   ]
  },
  {
   "cell_type": "code",
   "execution_count": 10,
   "metadata": {},
   "outputs": [],
   "source": [
    "headers = ['s0', 'RI', 'WI', 'HI', 'RW', 'WW', 'HW', 'RT', 'WT', 'HT', 'RO', 'WO', 'HO', 's1']\n",
    "df5 = pd.DataFrame(columns=headers)\n",
    "\n",
    "q0 = {'s0': 'q2B', 'RI': '1', 'WI': '1', 'HI': 'L','s1': 'q2B'}\n",
    "q1 = {'s0': 'q2B', 'RI': '0', 'WI': '0', 'HI': 'L','s1': 'q2B'}\n",
    "q2 = {'s0': 'q2B', 'RI': '_', 'WI': '_', 'HI': 'L', 's1': 'q2B'}\n",
    "q3 = {'s0': 'q2B', 'RI': 'S', 'WI': 'S', 'HI': '*', 's1': 'q0'}\n",
    "\n",
    "qs = [q0,q1,q2,q3]\n",
    "for q in qs:\n",
    "    df5 = add_row(q, headers, df5)\n",
    "    with open(\"file.txt\", \"a\") as f:\n",
    "        df5.to_csv(f, sep=' ', index=False, header=False)"
   ]
  },
  {
   "cell_type": "markdown",
   "metadata": {},
   "source": [
    "## State Compare"
   ]
  },
  {
   "cell_type": "markdown",
   "metadata": {},
   "source": [
    "\n",
    "Generate the $q_3$ state transtion function (Compare two numbers in binary): A is the number from the Input Tape, B is the number from the Working Tape\n",
    "1. State $q_6$: $A<B$. Copy the new number to the Working tape\n",
    "2. State $q_5$: $A=B$. Move to the next number in the Input tape\n",
    "3. State $q_4$: $A>B$. Move to the next number in the Input tape."
   ]
  },
  {
   "cell_type": "code",
   "execution_count": 11,
   "metadata": {},
   "outputs": [],
   "source": [
    "headers = ['s0', 'RI', 'WI', 'HI', 'RW', 'WW', 'HW', 'RT', 'WT', 'HT', 'RO', 'WO', 'HO', 's1']\n",
    "df6 = pd.DataFrame(columns=headers)\n",
    "\n",
    "q0 = {'s0': 'q3', 'RI': '1', 'WI': '1', 'HI': 'R','RW': '1', 'WW': '1', 'HW': 'R','s1': 'q3'}\n",
    "q1 = {'s0': 'q3', 'RI': '0', 'WI': '0', 'HI': 'R','RW': '0', 'WW': '0', 'HW': 'R','s1': 'q3'}\n",
    "q2 = {'s0': 'q3', 'RI': '0', 'WI': '0', 'HI': '*','RW': '1', 'WW': '1', 'HW': '*','s1': 'q6'}\n",
    "q3 = {'s0': 'q3', 'RI': '1', 'WI': '1', 'HI': '*','RW': '0', 'WW': '0', 'HW': '*','s1': 'q4'}\n",
    "q4 = {'s0': 'q3', 'RI': '_', 'WI': '_', 'HI': '*','RW': '1', 'WW': '1', 'HW': '*','s1': 'q6'}\n",
    "q5 = {'s0': 'q3', 'RI': '_', 'WI': '_', 'HI': '*','RW': '0', 'WW': '0', 'HW': '*','s1': 'q6'}\n",
    "q6 = {'s0': 'q3', 'RI': '1', 'WI': '1', 'HI': '*','RW': '_', 'WW': '_', 'HW': '*','s1': 'q4'}\n",
    "q7 = {'s0': 'q3', 'RI': '0', 'WI': '0', 'HI': '*','RW': '_', 'WW': '_', 'HW': '*','s1': 'q4'}\n",
    "q8 = {'s0': 'q3', 'RI': '_', 'WI': '_', 'HI': '*','RW': '_', 'WW': '_', 'HW': '*','s1': 'q5'}\n",
    "q9 = {'s0': 'q3', 'RW': 'E', 'WW': 'E', 'HW': '*','s1': 'q4'}\n",
    "\n",
    "\n",
    "\n",
    "\n",
    "qs = [q0,q1,q2,q3,q4,q5,q6,q7,q8,q9]\n",
    "for q in qs:\n",
    "    df6 = add_row(q, headers, df6)\n",
    "    with open(\"file.txt\", \"a\") as f:\n",
    "        df6.to_csv(f, sep=' ', index=False, header=False)"
   ]
  },
  {
   "cell_type": "markdown",
   "metadata": {},
   "source": [
    "### State $q_4: A>B$\n",
    "State $q_{4}$: Move to next number in the Input tape.\n",
    "1. Move $H_I$ : R until found first underscore\n",
    "2. Reset $H_W$ to the beginning of the tape and start over (state $q_{4A}$)"
   ]
  },
  {
   "cell_type": "code",
   "execution_count": 12,
   "metadata": {},
   "outputs": [],
   "source": [
    "headers = ['s0', 'RI', 'WI', 'HI', 'RW', 'WW', 'HW', 'RT', 'WT', 'HT', 'RO', 'WO', 'HO', 's1']\n",
    "df5 = pd.DataFrame(columns=headers)\n",
    "\n",
    "q0 = {'s0': 'q4', 'RI': '1', 'WI': '1', 'HI': 'R','s1': 'q4'}\n",
    "q1 = {'s0': 'q4', 'RI': '0', 'WI': '0', 'HI': 'R','s1': 'q4'}\n",
    "q2 = {'s0': 'q4', 'RI': 'E', 'WI': 'E', 'HI': '*','s1': 'q8'}\n",
    "q3 = {'s0': 'q4', 'RI': '_', 'WI': '_', 'HI': '*','s1': 'q4A'}\n",
    "\n",
    "\n",
    "\n",
    "\n",
    "\n",
    "qs = [q0,q1,q2,q3]\n",
    "for q in qs:\n",
    "    df5 = add_row(q, headers, df5)\n",
    "    with open(\"file.txt\", \"a\") as f:\n",
    "        df5.to_csv(f, sep=' ', index=False, header=False)"
   ]
  },
  {
   "cell_type": "markdown",
   "metadata": {},
   "source": [
    "State $q_{4A}$: Reset $H_W$ to S and start over reading the Input tape (state $q_0$)"
   ]
  },
  {
   "cell_type": "code",
   "execution_count": 13,
   "metadata": {},
   "outputs": [],
   "source": [
    "headers = ['s0', 'RI', 'WI', 'HI', 'RW', 'WW', 'HW', 'RT', 'WT', 'HT', 'RO', 'WO', 'HO', 's1']\n",
    "df9 = pd.DataFrame(columns=headers)\n",
    "\n",
    "q0 = {'s0': 'q4A', 'RW': '1', 'WW': '1', 'HW': 'L','s1': 'q4A'}\n",
    "q1 = {'s0': 'q4A', 'RW': '0', 'WW': '0', 'HW': 'L','s1': 'q4A'}\n",
    "q2 = {'s0': 'q4A', 'RW': '_', 'WW': '_', 'HW': 'L', 's1': 'q4A'}\n",
    "q3 = {'s0': 'q4A', 'RW': 'S', 'WW': 'S', 'HW': '*', 's1': 'q0'}\n",
    "\n",
    "qs = [q0,q1,q2,q3]\n",
    "for q in qs:\n",
    "    df9 = add_row(q, headers, df9)\n",
    "    with open(\"file.txt\", \"a\") as f:\n",
    "        df9.to_csv(f, sep=' ', index=False, header=False)"
   ]
  },
  {
   "cell_type": "markdown",
   "metadata": {},
   "source": [
    "### State $q_5: A=B$\n",
    "Generate the $q_5$ state transition function: \n",
    "1. Reset $H_W$ to S. \n",
    "2. Move to $q_0$ to read the next number in input tape."
   ]
  },
  {
   "cell_type": "code",
   "execution_count": 14,
   "metadata": {},
   "outputs": [],
   "source": [
    "headers = ['s0', 'RI', 'WI', 'HI', 'RW', 'WW', 'HW', 'RT', 'WT', 'HT', 'RO', 'WO', 'HO', 's1']\n",
    "df5 = pd.DataFrame(columns=headers)\n",
    "\n",
    "q0 = {'s0': 'q5', 'RW': '1', 'WW': '1', 'HW': 'L','s1': 'q5'}\n",
    "q1 = {'s0': 'q5', 'RW': '0', 'WW': '0', 'HW': 'L','s1': 'q5'}\n",
    "q2 = {'s0': 'q5', 'RW': '_', 'WW': '_', 'HW': 'L','s1': 'q5'}\n",
    "q3 = {'s0': 'q5', 'RW': 'S', 'WW': 'S', 'HW': '*','s1': 'q0'}\n",
    "\n",
    "\n",
    "qs = [q0,q1,q2,q3]\n",
    "for q in qs:\n",
    "    df5 = add_row(q, headers, df5)\n",
    "    with open(\"file.txt\", \"a\") as f:\n",
    "        df5.to_csv(f, sep=' ', index=False, header=False)"
   ]
  },
  {
   "cell_type": "markdown",
   "metadata": {},
   "source": [
    "### State $q_6: A<B$ \n",
    "#### Erase Working Tape and copy new number.\n",
    "\n",
    "1. First move to right until found the first blank space (state $q_{6}$). \n",
    "2. Then move to left erasing until found S (state $q_{6A}$)\n",
    "3. Reset $H_I$ to the beginning of the Input tape (state $q_{6B}$)"
   ]
  },
  {
   "cell_type": "code",
   "execution_count": 15,
   "metadata": {},
   "outputs": [],
   "source": [
    "headers = ['s0', 'RI', 'WI', 'HI', 'RW', 'WW', 'HW', 'RT', 'WT', 'HT', 'RO', 'WO', 'HO', 's1']\n",
    "df6 = pd.DataFrame(columns=headers)\n",
    "\n",
    "q0 = {'s0': 'q6', 'RW': '1', 'WW': '1', 'HW': 'R','s1': 'q6'}\n",
    "q1 = {'s0': 'q6', 'RW': '0', 'WW': '0', 'HW': 'R','s1': 'q6'}\n",
    "q2 = {'s0': 'q6', 'RW': '_', 'WW': '_', 'HW': '*', 's1': 'q6A'}\n",
    "\n",
    "qs = [q0,q1,q2]\n",
    "for q in qs:\n",
    "    df6 = add_row(q, headers, df6)\n",
    "    with open(\"file.txt\", \"a\") as f:\n",
    "        df6.to_csv(f, sep=' ', index=False, header=False)"
   ]
  },
  {
   "cell_type": "markdown",
   "metadata": {},
   "source": [
    "Generate the $q_{6A}$ state"
   ]
  },
  {
   "cell_type": "code",
   "execution_count": 16,
   "metadata": {},
   "outputs": [],
   "source": [
    "headers = ['s0', 'RI', 'WI', 'HI', 'RW', 'WW', 'HW', 'RT', 'WT', 'HT', 'RO', 'WO', 'HO', 's1']\n",
    "df6A = pd.DataFrame(columns=headers)\n",
    "\n",
    "q0 = {'s0': 'q6A', 'RW': '1', 'WW': '_', 'HW': 'L','s1': 'q6A'}\n",
    "q1 = {'s0': 'q6A', 'RW': '0', 'WW': '_', 'HW': 'L','s1': 'q6A'}\n",
    "q2 = {'s0': 'q6A', 'RW': '_', 'WW': '_', 'HW': 'L', 's1': 'q6A'}\n",
    "q3 = {'s0': 'q6A', 'RW': 'S', 'WW': 'S', 'HW': '*', 's1': 'q6B'}\n",
    "\n",
    "qs = [q0,q1,q2,q3]\n",
    "for q in qs:\n",
    "    df6A = add_row(q, headers, df6A)\n",
    "    with open(\"file.txt\", \"a\") as f:\n",
    "        df6A.to_csv(f, sep=' ', index=False, header=False)"
   ]
  },
  {
   "cell_type": "markdown",
   "metadata": {},
   "source": [
    "Generate the $q_{6B}$ state: Reset $H_I$ to the beginning of the tape"
   ]
  },
  {
   "cell_type": "code",
   "execution_count": 17,
   "metadata": {},
   "outputs": [],
   "source": [
    "headers = ['s0', 'RI', 'WI', 'HI', 'RW', 'WW', 'HW', 'RT', 'WT', 'HT', 'RO', 'WO', 'HO', 's1']\n",
    "df6B = pd.DataFrame(columns=headers)\n",
    "\n",
    "q0 = {'s0': 'q6B', 'RI': '1', 'WI': '1', 'HI': 'L','s1': 'q6B'}\n",
    "q1 = {'s0': 'q6B', 'RI': '0', 'WI': '0', 'HI': 'L','s1': 'q6B'}\n",
    "q2 = {'s0': 'q6B', 'RI': '_', 'WI': '_', 'HI': '*','s1': 'q0'}\n",
    "q3 = {'s0': 'q6B', 'RI': 'S', 'WI': 'S', 'HI': '*','s1': 'q0'}\n",
    "\n",
    "qs = [q0,q1,q2,q3]\n",
    "for q in qs:\n",
    "    df6B = add_row(q, headers, df6B)\n",
    "    with open(\"file.txt\", \"a\") as f:\n",
    "        df6B.to_csv(f, sep=' ', index=False, header=False)"
   ]
  },
  {
   "cell_type": "markdown",
   "metadata": {},
   "source": [
    "## End of the Input tape\n",
    "\n",
    "The TM reads the end of the Input tape (denoted by $E$), moves to the following states:\n",
    "1. Copies the number from the Working tape to the Output tape.\n",
    "2. Erase the copied number from the Input tape\n",
    "3. Resets all tapes and starts over\n"
   ]
  },
  {
   "cell_type": "markdown",
   "metadata": {},
   "source": [
    "Generate the $q_8$ state (Read Output Tape).\n",
    "1. If it reads $H$, then the Output Tape is full and the TM goes to the Halt state\n",
    "2. Otherwhise it moves to state $q_9$"
   ]
  },
  {
   "cell_type": "code",
   "execution_count": 18,
   "metadata": {},
   "outputs": [],
   "source": [
    "headers = ['s0', 'RI', 'WI', 'HI', 'RW', 'WW', 'HW', 'RT', 'WT', 'HT', 'RO', 'WO', 'HO', 's1']\n",
    "df8 = pd.DataFrame(columns=headers)\n",
    "\n",
    "q0 = {'s0': 'q8', 'RO': '_', 'WO': '_', 'HO': '*', 's1': 'q9'}\n",
    "q1 = {'s0': 'q8', 'RO': 'S', 'WO': 'S', 'HO': 'R', 's1': 'q8'}\n",
    "q2 = {'s0': 'q8', 'RO': 'H', 'WO': 'H', 'HO': '*', 's1': 'H'}\n",
    "\n",
    "qs = [q0,q1,q2]\n",
    "for q in qs:\n",
    "    df8 = add_row(q, headers, df8)\n",
    "    with open(\"file.txt\", \"a\") as f:\n",
    "        df8.to_csv(f, sep=' ', index=False, header=False)"
   ]
  },
  {
   "cell_type": "markdown",
   "metadata": {},
   "source": [
    "Generates state $q_9$: Reset $H_W$ to the beginning of the tape"
   ]
  },
  {
   "cell_type": "code",
   "execution_count": 19,
   "metadata": {},
   "outputs": [],
   "source": [
    "headers = ['s0', 'RI', 'WI', 'HI', 'RW', 'WW', 'HW', 'RT', 'WT', 'HT', 'RO', 'WO', 'HO', 's1']\n",
    "df9 = pd.DataFrame(columns=headers)\n",
    "\n",
    "q0 = {'s0': 'q9', 'RW': '1', 'WW': '1', 'HW': 'L','s1': 'q9'}\n",
    "q1 = {'s0': 'q9', 'RW': '0', 'WW': '0', 'HW': 'L','s1': 'q9'}\n",
    "q2 = {'s0': 'q9', 'RW': '_', 'WW': '_', 'HW': 'L', 's1': 'q9'}\n",
    "q3 = {'s0': 'q9', 'RW': 'S', 'WW': 'S', 'HW': '*', 's1': 'q9A'}\n",
    "\n",
    "qs = [q0,q1,q2,q3]\n",
    "for q in qs:\n",
    "    df9 = add_row(q, headers, df9)\n",
    "    with open(\"file.txt\", \"a\") as f:\n",
    "        df9.to_csv(f, sep=' ', index=False, header=False)"
   ]
  },
  {
   "cell_type": "markdown",
   "metadata": {},
   "source": [
    "Generate state $q_{9A}$: Copy the number from the Working Tape to the Output Tape"
   ]
  },
  {
   "cell_type": "code",
   "execution_count": 20,
   "metadata": {},
   "outputs": [],
   "source": [
    "headers = ['s0', 'RI', 'WI', 'HI', 'RW', 'WW', 'HW', 'RT', 'WT', 'HT', 'RO', 'WO', 'HO', 's1']\n",
    "df9A = pd.DataFrame(columns=headers)\n",
    "\n",
    "q0 = {'s0': 'q9A', 'RW': '1', 'WW': '1', 'HW': 'R','RO': '_', 'WO': '1', 'HO': 'R','s1': 'q9A'}\n",
    "q1 = {'s0': 'q9A', 'RW': '0', 'WW': '0', 'HW': 'R','RO': '_', 'WO': '0', 'HO': 'R','s1': 'q9A'}\n",
    "q2 = {'s0': 'q9A', 'RW': '_', 'WW': '_', 'HW': '*','RO': '_', 'WO': '_', 'HO': 'R','s1': 'q9C'}\n",
    "q3 = {'s0': 'q9A', 'RW': 'S', 'WW': 'S', 'HW': 'R','s1': 'q9A'}\n",
    "\n",
    "\n",
    "qs = [q0,q1,q2,q3]\n",
    "for q in qs:\n",
    "    df9A = add_row(q, headers, df9A)\n",
    "    with open(\"file.txt\", \"a\") as f:\n",
    "        df9A.to_csv(f, sep=' ', index=False, header=False)"
   ]
  },
  {
   "cell_type": "markdown",
   "metadata": {},
   "source": [
    "Generate state $q_{9B}$: Move $H_T$ to $E$"
   ]
  },
  {
   "cell_type": "code",
   "execution_count": 21,
   "metadata": {},
   "outputs": [],
   "source": [
    "headers = ['s0', 'RI', 'WI', 'HI', 'RW', 'WW', 'HW', 'RT', 'WT', 'HT', 'RO', 'WO', 'HO', 's1']\n",
    "df9B = pd.DataFrame(columns=headers)\n",
    "\n",
    "q0 = {'s0': 'q9B', 'RT': 'E', 'WT': 'E', 'HT': '*','s1': 'q9C'}\n",
    "q1 = {'s0': 'q9B', 'RT': '_', 'WT': '_', 'HT': 'R','s1': 'q9B'}\n",
    "q2 = {'s0': 'q9B', 'RT': 'X', 'WT': 'X', 'HT': 'R','s1': 'q9B'}\n",
    "\n",
    "\n",
    "qs = [q0,q1,q2]\n",
    "for q in qs:\n",
    "    df9B = add_row(q, headers, df9B)\n",
    "    with open(\"file.txt\", \"a\") as f:\n",
    "        df9B.to_csv(f, sep=' ', index=False, header=False)"
   ]
  },
  {
   "cell_type": "markdown",
   "metadata": {},
   "source": [
    "Generate state $q_{9C}$: Move $H_I,H_T$ simultaneously until found the character $X$ on the Track tape."
   ]
  },
  {
   "cell_type": "code",
   "execution_count": 22,
   "metadata": {},
   "outputs": [],
   "source": [
    "headers = ['s0', 'RI', 'WI', 'HI', 'RW', 'WW', 'HW', 'RT', 'WT', 'HT', 'RO', 'WO', 'HO', 's1']\n",
    "df9C = pd.DataFrame(columns=headers)\n",
    "\n",
    "q0 = {'s0': 'q9C', 'RT': 'E', 'WT': 'E', 'HT': 'L','RI': 'E', 'WI': 'E', 'HI': 'L','s1': 'q9C'}\n",
    "q1 = {'s0': 'q9C', 'RT': '_', 'WT': '_', 'HT': 'L','RI': '1', 'WI': '1', 'HI': 'L','s1': 'q9C'}\n",
    "q2 = {'s0': 'q9C', 'RT': '_', 'WT': '_', 'HT': 'L','RI': '0', 'WI': '0', 'HI': 'L','s1': 'q9C'}\n",
    "q3 = {'s0': 'q9C', 'RT': '_', 'WT': '_', 'HT': 'L','RI': '_', 'WI': '_', 'HI': 'L','s1': 'q9C'}\n",
    "q4 = {'s0': 'q9C', 'RT': 'X', 'WT': 'X', 'HT': '*','RI': '1', 'WI': '1', 'HI': '*','s1': 'q9D'}\n",
    "q5 = {'s0': 'q9C', 'RT': 'X', 'WT': 'X', 'HT': '*','RI': '0', 'WI': '0', 'HI': '*','s1': 'q9D'}\n",
    "\n",
    "\n",
    "qs = [q0,q1,q2,q3,q4,q5]\n",
    "\n",
    "for q in qs:\n",
    "    df9C = add_row(q, headers, df9C)\n",
    "    with open(\"file.txt\", \"a\") as f:\n",
    "        df9C.to_csv(f, sep=' ', index=False, header=False)"
   ]
  },
  {
   "cell_type": "markdown",
   "metadata": {},
   "source": [
    "Generate state $q_{9D}$: Erase global minimum from the Input Tape, changes $X$ by underscores."
   ]
  },
  {
   "cell_type": "code",
   "execution_count": 23,
   "metadata": {},
   "outputs": [],
   "source": [
    "headers = ['s0', 'RI', 'WI', 'HI', 'RW', 'WW', 'HW', 'RT', 'WT', 'HT', 'RO', 'WO', 'HO', 's1']\n",
    "df9D = pd.DataFrame(columns=headers)\n",
    "\n",
    "q0 = {'s0': 'q9D', 'RT': 'X', 'WT': '_', 'HT': 'L','RI': '1', 'WI': '_', 'HI': 'L','s1': 'q9D'}\n",
    "q1 = {'s0': 'q9D', 'RT': 'X', 'WT': '_', 'HT': 'L','RI': '0', 'WI': '_', 'HI': 'L','s1': 'q9D'}\n",
    "q2 = {'s0': 'q9D', 'RT': '_', 'WT': '_', 'HT': '*','RI': '_', 'WI': '_', 'HI': '*','s1': 'q9F'}\n",
    "q3 = {'s0': 'q9D' , 'RI' : 'S', 'WI' : 'S', 'HI' : '*', 's1' : 'q9F'}\n",
    "\n",
    "qs = [q0,q1,q2,q3]\n",
    "for q in qs:\n",
    "    df9D = add_row(q, headers, df9D)\n",
    "    with open(\"file.txt\", \"a\") as f:\n",
    "        df9D.to_csv(f, sep=' ', index=False, header=False)"
   ]
  },
  {
   "cell_type": "markdown",
   "metadata": {},
   "source": [
    "Generate state $q_{9F}$: Reset and erase the Working Tape."
   ]
  },
  {
   "cell_type": "code",
   "execution_count": 24,
   "metadata": {},
   "outputs": [],
   "source": [
    "headers = ['s0', 'RI', 'WI', 'HI', 'RW', 'WW', 'HW', 'RT', 'WT', 'HT', 'RO', 'WO', 'HO', 's1']\n",
    "df9F = pd.DataFrame(columns=headers)\n",
    "\n",
    "q0 = {'s0': 'q9F', 'RW': '1', 'WW': '_', 'HW': 'L','s1': 'q9F'}\n",
    "q1 = {'s0': 'q9F', 'RW': '0', 'WW': '_', 'HW': 'L','s1': 'q9F'}\n",
    "q2 = {'s0': 'q9F', 'RW': '_', 'WW': '_', 'HW': 'L','s1': 'q9F'}\n",
    "q3 = {'s0': 'q9F', 'RW': 'S', 'WW': 'S', 'HW': '*','s1': 'q9G'}\n",
    "\n",
    "\n",
    "qs = [q0,q1,q2,q3]\n",
    "for q in qs:\n",
    "    df9F = add_row(q, headers, df9F)\n",
    "    with open(\"file.txt\", \"a\") as f:\n",
    "        df9F.to_csv(f, sep=' ', index=False, header=False)"
   ]
  },
  {
   "cell_type": "markdown",
   "metadata": {},
   "source": [
    "Generate state $q_{9G}$: Reset Input tape and Track tape Head and start over."
   ]
  },
  {
   "cell_type": "code",
   "execution_count": 25,
   "metadata": {},
   "outputs": [],
   "source": [
    "headers = ['s0', 'RI', 'WI', 'HI', 'RW', 'WW', 'HW', 'RT', 'WT', 'HT', 'RO', 'WO', 'HO', 's1']\n",
    "df9G = pd.DataFrame(columns=headers)\n",
    "\n",
    "q0 = {'s0': 'q9G', 'RI': '1', 'WI': '1', 'HI': 'L','RT': 'X', 'WT': '_', 'HT': 'L','s1': 'q9G'}\n",
    "q1 = {'s0': 'q9G', 'RI': '0', 'WI': '0', 'HI': 'L','RT': 'X', 'WT': '_', 'HT': 'L','s1': 'q9G'}\n",
    "q2 = {'s0': 'q9G', 'RI': '_', 'WI': '_', 'HI': 'L','RT': '_', 'WT': '_', 'HT': 'L','s1': 'q9G'}\n",
    "q3 = {'s0': 'q9G', 'RI': 'S', 'WI': 'S', 'HI': '*','s1': 'q0'}\n",
    "\n",
    "\n",
    "qs = [q0,q1,q2,q3]\n",
    "for q in qs:\n",
    "    df9G = add_row(q, headers, df9G)\n",
    "    with open(\"file.txt\", \"a\") as f:\n",
    "        df9G.to_csv(f, sep=' ', index=False, header=False)"
   ]
  }
 ],
 "metadata": {
  "kernelspec": {
   "display_name": "Python 3.11.1 64-bit",
   "language": "python",
   "name": "python3"
  },
  "language_info": {
   "codemirror_mode": {
    "name": "ipython",
    "version": 3
   },
   "file_extension": ".py",
   "mimetype": "text/x-python",
   "name": "python",
   "nbconvert_exporter": "python",
   "pygments_lexer": "ipython3",
   "version": "3.11.1"
  },
  "orig_nbformat": 4,
  "vscode": {
   "interpreter": {
    "hash": "aee8b7b246df8f9039afb4144a1f6fd8d2ca17a180786b69acc140d282b71a49"
   }
  }
 },
 "nbformat": 4,
 "nbformat_minor": 2
}
